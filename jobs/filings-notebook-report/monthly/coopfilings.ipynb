{
 "cells": [
  {
   "cell_type": "markdown",
   "metadata": {
    "collapsed": false
   },
   "source": [
    "# Filings Monthly Stats"
   ]
  },
  {
   "cell_type": "markdown",
   "metadata": {
    "collapsed": false
   },
   "source": [
    "We need to load in these libraries into our notebook in order to query, load, manipulate and view the data"
   ]
  },
  {
   "cell_type": "code",
   "execution_count": null,
   "metadata": {
    "collapsed": false,
    "pycharm": {
     "is_executing": false,
     "name": "#%%\n"
    }
   },
   "outputs": [],
   "source": [
    "import os\n",
    "from datetime import datetime\n",
    "from dateutil.relativedelta import relativedelta\n",
    "from config import Config\n",
    "\n",
    "%load_ext sql\n",
    "%config SqlMagic.displaylimit = 5"
   ]
  },
  {
   "cell_type": "markdown",
   "metadata": {
    "collapsed": false
   },
   "source": [
    "This will create the connection to the database and prep the jupyter magic for SQL"
   ]
  },
  {
   "cell_type": "code",
   "execution_count": null,
   "metadata": {
    "collapsed": false,
    "pycharm": {
     "is_executing": false,
     "name": "#%%\n"
    }
   },
   "outputs": [],
   "source": [
    "%sql $Config.SQLALCHEMY_DATABASE_URI"
   ]
  },
  {
   "cell_type": "markdown",
   "metadata": {
    "collapsed": false
   },
   "source": [
    "monthly total before running time."
   ]
  },
  {
   "cell_type": "code",
   "execution_count": null,
   "metadata": {
    "collapsed": false,
    "pycharm": {
     "is_executing": false,
     "name": "#%%\n"
    }
   },
   "outputs": [],
   "source": [
    "%%sql stat_filings_monthly_completed  <<\n",
    "WITH Detail AS \n",
    "(\n",
    "    SELECT le.identifier AS COOPERATIVE_NUMBER\n",
    "           , le.legal_name AS COOPERATIVE_NAME\n",
    "           , COUNT(le.identifier) AS FILINGS_TOTAL_COMPLETED\n",
    "           , STRING_AGG(f.filing_type, ', ')  AS FILING_TYPES_COMPLETED\n",
    "    FROM legal_entities le,\n",
    "    filings f\n",
    "    WHERE le.id = f.legal_entity_id\n",
    "    AND le.entity_type='CP'\n",
    "    AND f.status='COMPLETED'\n",
    "    AND date(f.completion_date at time zone 'utc' at time zone 'pst')  > date(current_date - 1 - interval '1 months')    \n",
    "    AND date(f.completion_date at time zone 'utc' at time zone 'pst')  <= date(current_date - 1)\n",
    "    GROUP BY le.identifier, le.legal_name    \n",
    ")\n",
    "\n",
    "SELECT * FROM Detail\n",
    "UNION ALL\n",
    "SELECT 'SUM' identifier, null, sum(FILINGS_TOTAL_COMPLETED) AS count, null\n",
    "from Detail;"
   ]
  },
  {
   "cell_type": "code",
   "execution_count": null,
   "metadata": {
    "collapsed": false,
    "pycharm": {
     "is_executing": false,
     "name": "#%%\n"
    }
   },
   "outputs": [],
   "source": [
    "edt = stat_filings_monthly_completed.DataFrame()"
   ]
  },
  {
   "cell_type": "markdown",
   "metadata": {
    "collapsed": false
   },
   "source": [
    "Save to CSV"
   ]
  },
  {
   "cell_type": "code",
   "execution_count": null,
   "metadata": {
    "collapsed": false,
    "pycharm": {
     "is_executing": false,
     "name": "#%%\n"
    }
   },
   "outputs": [],
   "source": [
    "last_month = datetime.now() - relativedelta(months=1)\n",
    "filename = os.path.join(os.getcwd(), r'data/')+'coop_filings_monthly_stats_for_' + format(last_month, '%B_%Y') +'.csv'\n",
    "edt.to_csv(filename, sep=',', encoding='utf-8', index=False)"
   ]
  }
 ],
 "metadata": {
  "celltoolbar": "Tags",
  "kernelspec": {
   "display_name": "Python 3.10.4 64-bit",
   "language": "python",
   "name": "python3"
  },
  "language_info": {
   "codemirror_mode": {
    "name": "ipython",
    "version": 3
   },
   "file_extension": ".py",
   "mimetype": "text/x-python",
   "name": "python",
   "nbconvert_exporter": "python",
   "pygments_lexer": "ipython3",
   "version": "3.10.4"
  },
  "pycharm": {
   "stem_cell": {
    "cell_type": "raw",
    "metadata": {
     "collapsed": false
    },
    "source": []
   }
  },
  "vscode": {
   "interpreter": {
    "hash": "fcb35bce15c55b4cacb5112e543368f86c7f98ed17acd45e6841ee83ed1df6e3"
   }
  }
 },
 "nbformat": 4,
 "nbformat_minor": 2
}
