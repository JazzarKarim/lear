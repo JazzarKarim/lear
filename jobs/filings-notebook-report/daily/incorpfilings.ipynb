{
 "cells": [
  {
   "cell_type": "markdown",
   "metadata": {
    "collapsed": false
   },
   "source": [
    "# Filings Daily Stats"
   ]
  },
  {
   "cell_type": "markdown",
   "metadata": {
    "collapsed": false
   },
   "source": [
    "We need to load in these libraries into our notebook in order to query, load, manipulate and view the data"
   ]
  },
  {
   "cell_type": "code",
   "execution_count": null,
   "metadata": {
    "collapsed": false,
    "pycharm": {
     "is_executing": false,
     "name": "#%%\n"
    }
   },
   "outputs": [],
   "source": [
    "import os\n",
    "from datetime import datetime, timedelta\n",
    "from config import Config\n",
    "\n",
    "%load_ext sql\n",
    "%config SqlMagic.displaylimit = 5"
   ]
  },
  {
   "cell_type": "markdown",
   "metadata": {
    "collapsed": false
   },
   "source": [
    "This will create the connection to the database and prep the jupyter magic for SQL"
   ]
  },
  {
   "cell_type": "code",
   "execution_count": null,
   "metadata": {
    "collapsed": false,
    "pycharm": {
     "is_executing": false,
     "name": "#%%\n"
    }
   },
   "outputs": [],
   "source": [
    "%sql $Config.SQLALCHEMY_DATABASE_URI"
   ]
  },
  {
   "cell_type": "markdown",
   "metadata": {
    "collapsed": false
   },
   "source": [
    "monthly total before running time."
   ]
  },
  {
   "cell_type": "code",
   "execution_count": null,
   "metadata": {
    "collapsed": false,
    "pycharm": {
     "is_executing": false,
     "name": "#%%\n"
    }
   },
   "outputs": [],
   "source": [
    "%%sql stat_incorp_filings_daily_completed  <<\n",
    "SELECT le.identifier AS INCORPORATION_NUMBER\n",
    "       , le.legal_name AS INCORPORATION_NAME\n",
    "       , u.username AS FILING_USER\n",
    "       , f.status \n",
    "       , f.filing_date at time zone 'utc' at time zone 'pst' AS FILING_TIMESTAMP_PST\n",
    "       , f.effective_date at time zone 'utc' at time zone 'pst' AS EFFECTIVE_TIMESTAMP_PST\n",
    "FROM legal_entities le, filings f, users u \n",
    "WHERE le.id = f.legal_entity_id \n",
    "AND f.filing_type='incorporationApplication'\n",
    "AND f.submitter_id=u.id \n",
    "AND date(f.filing_date at time zone 'utc' at time zone 'pst') = date(current_date-1)\n",
    "ORDER BY FILING_TIMESTAMP_PST;"
   ]
  },
  {
   "cell_type": "code",
   "execution_count": null,
   "metadata": {
    "collapsed": false,
    "pycharm": {
     "is_executing": false,
     "name": "#%%\n"
    }
   },
   "outputs": [],
   "source": [
    "incorp_edt = stat_incorp_filings_daily_completed.DataFrame()\n",
    "\n",
    "datestr = datetime.strftime(datetime.now()-timedelta(1), '%Y-%m-%d')\n",
    "filename =  os.path.join(os.getcwd(), r'data/')+'incorporation_filings_daily_stats_' + datestr +'.csv'\n",
    "\n",
    "with open(filename, 'w') as f:\n",
    "    if incorp_edt.empty:\n",
    "        f.write('No Data Retrieved for Incorporation Application on ' + datestr)         \n",
    "    else:  \n",
    "        f.write('Incorporation Application(s) on ' + datestr + ':\\n')            \n",
    "        incorp_edt.to_csv(f, sep=',', encoding='utf-8', index=False)  \n",
    "    f.write('\\n\\n')   "
   ]
  },
  {
   "cell_type": "code",
   "execution_count": null,
   "metadata": {
    "collapsed": false,
    "pycharm": {
     "is_executing": false,
     "name": "#%%\n"
    }
   },
   "outputs": [],
   "source": [
    "%%sql stat_benefit_filings_daily_completed  <<\n",
    "SELECT le.identifier AS INCORPORATION_NUMBER\n",
    "       , le.legal_name AS INCORPORATION_NAME\n",
    "       , u.username AS FILING_USER\n",
    "       , f.status \n",
    "       , f.filing_date at time zone 'utc' at time zone 'pst' AS FILING_TIMESTAMP_PST\n",
    "       , f.effective_date at time zone 'utc' at time zone 'pst' AS EFFECTIVE_TIMESTAMP_PST\n",
    "FROM legal_entities le, filings f, users u \n",
    "WHERE le.id = f.legal_entity_id \n",
    "AND le.entity_type='BEN'\n",
    "AND f.filing_type='alteration'\n",
    "AND f.submitter_id=u.id \n",
    "AND date(f.filing_date at time zone 'utc' at time zone 'pst') = date(current_date-1)\n",
    "ORDER BY FILING_TIMESTAMP_PST;"
   ]
  },
  {
   "cell_type": "code",
   "execution_count": null,
   "metadata": {},
   "outputs": [],
   "source": [
    "benefit_edt = stat_benefit_filings_daily_completed.DataFrame()\n",
    "\n",
    "with open(filename, 'a') as f:  \n",
    "    if benefit_edt.empty:\n",
    "        f.write('No Data Retrieved for Alterations to Benefit Company on ' + datestr)         \n",
    "    else: \n",
    "        f.write('Alterations to Benefit Company on ' + datestr + ':\\n')  \n",
    "        benefit_edt.to_csv(f, sep=',', encoding='utf-8', index=False) \n",
    "    f.write('\\n\\n')  "
   ]
  },
  {
   "cell_type": "code",
   "execution_count": null,
   "metadata": {},
   "outputs": [],
   "source": [
    "%%sql stat_bc_company_filings_daily_completed  <<\n",
    "SELECT le.identifier AS INCORPORATION_NUMBER\n",
    "       , le.legal_name AS INCORPORATION_NAME\n",
    "       , u.username AS FILING_USER\n",
    "       , f.status \n",
    "       , f.filing_date at time zone 'utc' at time zone 'pst' AS FILING_TIMESTAMP_PST\n",
    "       , f.effective_date at time zone 'utc' at time zone 'pst' AS EFFECTIVE_TIMESTAMP_PST\n",
    "FROM legal_entities le, filings f, users u \n",
    "WHERE le.id = f.legal_entity_id \n",
    "AND le.entity_type='BC'\n",
    "AND f.filing_type='alteration'\n",
    "AND f.submitter_id=u.id \n",
    "AND date(f.filing_date at time zone 'utc' at time zone 'pst') = date(current_date-1)\n",
    "ORDER BY FILING_TIMESTAMP_PST;"
   ]
  },
  {
   "cell_type": "code",
   "execution_count": null,
   "metadata": {},
   "outputs": [],
   "source": [
    "bc_company_edt = stat_bc_company_filings_daily_completed.DataFrame()\n",
    "\n",
    "with open(filename, 'a') as f:  \n",
    "    if bc_company_edt.empty:\n",
    "        f.write('No Data Retrieved for Alterations to BC Limited Company on ' + datestr)         \n",
    "    else: \n",
    "        f.write('Alterations to BC Limited Company on ' + datestr + ':\\n')  \n",
    "        bc_company_edt.to_csv(f, sep=',', encoding='utf-8', index=False) \n",
    "    f.write('\\n\\n')    "
   ]
  },
  {
   "cell_type": "code",
   "execution_count": null,
   "metadata": {},
   "outputs": [],
   "source": [
    "%%sql stat_benefit_corporations_total_completed  <<\n",
    "SELECT count(*) \n",
    "FROM legal_entities\n",
    "WHERE entity_type='BEN';"
   ]
  },
  {
   "cell_type": "code",
   "execution_count": null,
   "metadata": {},
   "outputs": [],
   "source": [
    "with open(filename, 'a') as f:  \n",
    "    f.write('The Total Number of Benefit Companies to Date:\\n')\n",
    "    stat_benefit_corporations_total_completed.DataFrame().to_csv(f, sep=',', encoding='utf-8', index=False) "
   ]
  }
 ],
 "metadata": {
  "celltoolbar": "Tags",
  "kernelspec": {
   "display_name": "Python 3.10.4 64-bit",
   "language": "python",
   "name": "python3"
  },
  "language_info": {
   "codemirror_mode": {
    "name": "ipython",
    "version": 3
   },
   "file_extension": ".py",
   "mimetype": "text/x-python",
   "name": "python",
   "nbconvert_exporter": "python",
   "pygments_lexer": "ipython3",
   "version": "3.10.4"
  },
  "pycharm": {
   "stem_cell": {
    "cell_type": "raw",
    "metadata": {
     "collapsed": false
    },
    "source": []
   }
  },
  "vscode": {
   "interpreter": {
    "hash": "fcb35bce15c55b4cacb5112e543368f86c7f98ed17acd45e6841ee83ed1df6e3"
   }
  }
 },
 "nbformat": 4,
 "nbformat_minor": 2
}
