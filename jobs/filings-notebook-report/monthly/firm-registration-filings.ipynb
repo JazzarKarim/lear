{
 "cells": [
  {
   "cell_type": "markdown",
   "metadata": {
    "collapsed": false
   },
   "source": [
    "# Cooperatives Monthly Stats"
   ]
  },
  {
   "cell_type": "markdown",
   "metadata": {
    "collapsed": false
   },
   "source": [
    "We need to load in these libraries into our notebook in order to query, load, manipulate and view the data"
   ]
  },
  {
   "cell_type": "code",
   "execution_count": null,
   "metadata": {},
   "outputs": [],
   "source": [
    "import os\n",
    "from datetime import datetime\n",
    "from dateutil.relativedelta import relativedelta\n",
    "from config import Config\n",
    "\n",
    "%load_ext sql\n",
    "%config SqlMagic.displaylimit = 5"
   ]
  },
  {
   "cell_type": "markdown",
   "metadata": {
    "collapsed": false
   },
   "source": [
    "This will create the connection to the database and prep the jupyter magic for SQL"
   ]
  },
  {
   "cell_type": "code",
   "execution_count": null,
   "metadata": {},
   "outputs": [],
   "source": [
    "%sql $Config.SQLALCHEMY_DATABASE_URI"
   ]
  },
  {
   "cell_type": "markdown",
   "metadata": {
    "collapsed": false
   },
   "source": [
    "monthly total before running time."
   ]
  },
  {
   "cell_type": "code",
   "execution_count": null,
   "metadata": {},
   "outputs": [],
   "source": [
    "%%sql firm_registration_filings  <<\n",
    "SELECT UPPER(a.city),  REPLACE(a.postal_code,' ',''), count(*)\n",
    "FROM legal_entities le, offices o, addresses a, filings f\n",
    "WHERE le.id=f.legal_entity_id\n",
    "AND le.id=o.legal_entity_id\n",
    "AND o.id=a.office_id\n",
    "AND a.address_type='mailing'\n",
    "AND f.filing_type = 'registration'\n",
    "AND o.office_type = 'businessOffice'\n",
    "AND to_char(le.founding_date,'yyyymm') = to_char(current_date-27,'yyyymm')\n",
    "AND le.entity_type in ('SP', 'GP')\n",
    "GROUP BY upper(a.city),replace(a.postal_code,' ','')\n",
    "ORDER BY upper(a.city),replace(a.postal_code,' ','');"
   ]
  },
  {
   "cell_type": "code",
   "execution_count": null,
   "metadata": {},
   "outputs": [],
   "source": [
    "last_month = datetime.now() - relativedelta(months=1)\n",
    "filename = os.path.join(os.getcwd(), r'data/')+'bc_stats_firms_for_' + format(last_month, '%B_%Y') +'.csv'\n",
    "\n",
    "with open(filename, 'w') as f:\n",
    "    f.write('FIRM REGISTRATIONS FOR THE MONTH OF ' + format(last_month, '%B_%Y') + ' :\\n')\n",
    "    df=firm_registration_filings.DataFrame()\n",
    "    if not df.empty:\n",
    "        df.columns = ['City','Postal_Code','Count']         \n",
    "    df.to_csv(f, sep=',', encoding='utf-8', index=False)      \n",
    "    "
   ]
  }
 ],
 "metadata": {
  "celltoolbar": "Tags",
  "kernelspec": {
   "display_name": "Python 3.10.4 64-bit",
   "language": "python",
   "name": "python3"
  },
  "language_info": {
   "codemirror_mode": {
    "name": "ipython",
    "version": 3
   },
   "file_extension": ".py",
   "mimetype": "text/x-python",
   "name": "python",
   "nbconvert_exporter": "python",
   "pygments_lexer": "ipython3",
   "version": "3.10.4"
  },
  "pycharm": {
   "stem_cell": {
    "cell_type": "raw",
    "metadata": {
     "collapsed": false
    },
    "source": []
   }
  },
  "vscode": {
   "interpreter": {
    "hash": "fcb35bce15c55b4cacb5112e543368f86c7f98ed17acd45e6841ee83ed1df6e3"
   }
  }
 },
 "nbformat": 4,
 "nbformat_minor": 2
}
